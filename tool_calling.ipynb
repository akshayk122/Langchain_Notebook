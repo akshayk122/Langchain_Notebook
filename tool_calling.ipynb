{
 "cells": [
  {
   "cell_type": "code",
   "execution_count": 1,
   "id": "af524c50",
   "metadata": {},
   "outputs": [
    {
     "name": "stdout",
     "output_type": "stream",
     "text": [
      "\n",
      "\u001b[1m[\u001b[0m\u001b[34;49mnotice\u001b[0m\u001b[1;39;49m]\u001b[0m\u001b[39;49m A new release of pip is available: \u001b[0m\u001b[31;49m23.2.1\u001b[0m\u001b[39;49m -> \u001b[0m\u001b[32;49m25.1.1\u001b[0m\n",
      "\u001b[1m[\u001b[0m\u001b[34;49mnotice\u001b[0m\u001b[1;39;49m]\u001b[0m\u001b[39;49m To update, run: \u001b[0m\u001b[32;49mpython3 -m pip install --upgrade pip\u001b[0m\n",
      "Note: you may need to restart the kernel to use updated packages.\n"
     ]
    }
   ],
   "source": [
    "pip install -qU \"langchain[google-genai]\""
   ]
  },
  {
   "cell_type": "code",
   "execution_count": 1,
   "id": "b047ed08",
   "metadata": {},
   "outputs": [],
   "source": [
    "import getpass\n",
    "import os\n",
    "if not os.environ.get(\"GOOGLE_API_KEY\"):\n",
    "  os.environ[\"GOOGLE_API_KEY\"] = getpass.getpass(\"Enter API key for Google Gemini: \")\n",
    "\n",
    "from langchain.chat_models import init_chat_model\n",
    "\n",
    "model = init_chat_model(\"gemini-2.0-flash\", model_provider=\"google_genai\")"
   ]
  },
  {
   "cell_type": "code",
   "execution_count": 17,
   "id": "70537361",
   "metadata": {},
   "outputs": [
    {
     "data": {
      "text/plain": [
       "AIMessage(content='```tool_code\\nprint(10+10)\\n```', additional_kwargs={}, response_metadata={'prompt_feedback': {'block_reason': 0, 'safety_ratings': []}, 'finish_reason': 'STOP', 'model_name': 'gemini-2.0-flash', 'safety_ratings': []}, id='run--19d2d3e1-5974-41c6-94cf-951115188338-0', usage_metadata={'input_tokens': 14, 'output_tokens': 15, 'total_tokens': 29, 'input_token_details': {'cache_read': 0}})"
      ]
     },
     "execution_count": 17,
     "metadata": {},
     "output_type": "execute_result"
    }
   ],
   "source": [
    "from langchain_core.messages import HumanMessage,SystemMessage\n",
    "message=[\n",
    "    SystemMessage('Give result based on tool call'),\n",
    "    HumanMessage(\"Sum of 10+10\")\n",
    "\n",
    "]\n",
    "model.invoke(message)"
   ]
  },
  {
   "cell_type": "code",
   "execution_count": 18,
   "id": "5a191da5",
   "metadata": {},
   "outputs": [],
   "source": [
    "from langchain_core.prompts import ChatPromptTemplate\n",
    "system_template=\"Give result based on tool call\"\n",
    "prompt_template=ChatPromptTemplate.from_messages([(\"system\",system_template),(\"user\",\"{text}\")])"
   ]
  },
  {
   "cell_type": "code",
   "execution_count": 19,
   "id": "9cab6f27",
   "metadata": {},
   "outputs": [],
   "source": [
    "prompt=prompt_template.invoke({\"text\":\"Bangalore\"})"
   ]
  },
  {
   "cell_type": "code",
   "execution_count": 20,
   "id": "a5b0cbf4",
   "metadata": {},
   "outputs": [
    {
     "name": "stdout",
     "output_type": "stream",
     "text": [
      "content='```tool_code\\nprint(google_search.search(queries=[\"Bangalore\"]))\\n```' additional_kwargs={} response_metadata={'prompt_feedback': {'block_reason': 0, 'safety_ratings': []}, 'finish_reason': 'STOP', 'model_name': 'gemini-2.0-flash', 'safety_ratings': []} id='run--53777729-66cb-4ace-9ef6-e9cca4ece1c5-0' usage_metadata={'input_tokens': 7, 'output_tokens': 20, 'total_tokens': 27, 'input_token_details': {'cache_read': 0}}\n"
     ]
    }
   ],
   "source": [
    "print(model.invoke(prompt))"
   ]
  },
  {
   "cell_type": "code",
   "execution_count": 21,
   "id": "c8cead04",
   "metadata": {},
   "outputs": [
    {
     "name": "stdout",
     "output_type": "stream",
     "text": [
      "\n"
     ]
    }
   ],
   "source": [
    "from langchain_core.tools import tool\n",
    "\n",
    "@tool\n",
    "def get_add(a:int,b:int)->int:\n",
    "    \"\"\"\"Add the two numbers and return result\"\"\"\n",
    "    return a+b\n",
    "\n",
    "\n",
    "@tool\n",
    "def get_sub(a:int,b:int)->int:\n",
    "    \"\"\"\"Subtract  two numbers and return result\"\"\"\n",
    "    return a-b\n",
    "\n",
    "model_with_tool=model.bind_tools([get_add,get_sub])\n",
    "\n",
    "result=model_with_tool.invoke('what is the add of 10 and 10')\n",
    "print(result.content)"
   ]
  },
  {
   "cell_type": "code",
   "execution_count": 27,
   "id": "3378e9e7",
   "metadata": {},
   "outputs": [
    {
     "name": "stdout",
     "output_type": "stream",
     "text": [
      "content='' additional_kwargs={'function_call': {'name': 'get_add', 'arguments': '{\"a\": 10.0, \"b\": 10.0}'}} response_metadata={'prompt_feedback': {'block_reason': 0, 'safety_ratings': []}, 'finish_reason': 'STOP', 'model_name': 'gemini-2.0-flash', 'safety_ratings': []} id='run--906da79e-8a4f-417f-aa8c-be2e55b73965-0' tool_calls=[{'name': 'get_add', 'args': {'a': 10.0, 'b': 10.0}, 'id': 'b7324b41-06b7-4c7d-87b6-cf5f806f4817', 'type': 'tool_call'}] usage_metadata={'input_tokens': 44, 'output_tokens': 7, 'total_tokens': 51, 'input_token_details': {'cache_read': 0}}\n"
     ]
    }
   ],
   "source": [
    "result=model_with_tool.invoke('result of 10+10')\n",
    "print(result)"
   ]
  },
  {
   "cell_type": "code",
   "execution_count": 34,
   "id": "3c151f39",
   "metadata": {},
   "outputs": [
    {
     "name": "stdout",
     "output_type": "stream",
     "text": [
      "The capital of Illinois is **Springfield**.\n"
     ]
    }
   ],
   "source": [
    "from langchain_google_genai import ChatGoogleGenerativeAI\n",
    "llm=ChatGoogleGenerativeAI(model=\"gemini-2.0-flash\")\n",
    "result=llm.invoke(\"What is the capital of IL?\")\n",
    "print(result.content)"
   ]
  },
  {
   "cell_type": "code",
   "execution_count": 35,
   "id": "1adfdb0f",
   "metadata": {},
   "outputs": [
    {
     "name": "stdout",
     "output_type": "stream",
     "text": [
      "Here's what I can see in the image:\n",
      "\n",
      "*   **Landscape:** The image depicts a mountain landscape.\n",
      "*   **Mountains:** There is a prominent snow-covered mountain peak visible on the right side of the image.\n",
      "*   **Sky:** The sky takes up a significant portion of the image, featuring soft, pinkish-hued clouds.\n",
      "*   **Snow:** There appears to be a large, snow-covered field or slope in the foreground.\n",
      "*   **Lighting:** The lighting suggests it might be either sunrise or sunset, given the soft, warm tones in the sky.\n"
     ]
    }
   ],
   "source": [
    "message = HumanMessage(\n",
    "    content=[\n",
    "        {\n",
    "            \"type\": \"text\",\n",
    "            \"text\": \"What's in this image?\",\n",
    "        },\n",
    "        {\"type\": \"image_url\", \"image_url\": \"https://picsum.photos/seed/picsum/200/300\"},\n",
    "    ]\n",
    ")\n",
    "result = llm.invoke([message])\n",
    "print(result.content)"
   ]
  },
  {
   "cell_type": "code",
   "execution_count": 36,
   "id": "a4681c05",
   "metadata": {},
   "outputs": [],
   "source": [
    "from pydantic import BaseModel, Field\n",
    "class ResponseFormatter(BaseModel):\n",
    "    \"\"\"Always use this tool to structure your response to the user.\"\"\"\n",
    "    answer: str = Field(description=\"The answer to the user's question\")\n",
    "    followup_question: str = Field(description=\"A followup question the user could ask\")\n"
   ]
  },
  {
   "cell_type": "code",
   "execution_count": 38,
   "id": "8f250909",
   "metadata": {},
   "outputs": [],
   "source": [
    "\n",
    "# Bind responseformatter schema as a tool to the model\n",
    "model_with_tools = model.bind_tools([ResponseFormatter])\n",
    "# Invoke the model\n",
    "ai_msg = model_with_tools.invoke(\"What is the powerhouse of the cell?\")\n"
   ]
  },
  {
   "cell_type": "code",
   "execution_count": 41,
   "id": "f2779723",
   "metadata": {},
   "outputs": [],
   "source": [
    "# Get the tool call arguments\n",
    "ai_msg.tool_calls[0][\"args\"]\n",
    "{'answer': \"The powerhouse of the cell is the mitochondrion. Mitochondria are organelles that generate most of the cell's supply of adenosine triphosphate (ATP), which is used as a source of chemical energy.\",\n",
    " 'followup_question': 'What is the function of ATP in the cell?'}\n",
    "# Parse the dictionary into a pydantic object\n",
    "pydantic_object = ResponseFormatter.model_validate(ai_msg.tool_calls[0][\"args\"])"
   ]
  },
  {
   "cell_type": "code",
   "execution_count": 47,
   "id": "75ff6bb3",
   "metadata": {},
   "outputs": [
    {
     "data": {
      "text/plain": [
       "ResponseFormatter(answer='Here are 10 random integers between 100 and 199: [101, 123, 145, 167, 189, 112, 134, 156, 178, 190]', followup_question='Would you like a different set of random integers or a different range?')"
      ]
     },
     "execution_count": 47,
     "metadata": {},
     "output_type": "execute_result"
    }
   ],
   "source": [
    "\n",
    "model=ChatGoogleGenerativeAI(model=\"gemini-2.0-flash\").with_structured_output(method=\"json_mode\",schema=ResponseFormatter)\n",
    "ai_msg = model.invoke(\"Return a JSON object with key 'random_ints' and a value of 10 random ints in [100-199]\")\n",
    "ai_msg\n"
   ]
  },
  {
   "cell_type": "code",
   "execution_count": null,
   "id": "72a17da5",
   "metadata": {},
   "outputs": [],
   "source": []
  }
 ],
 "metadata": {
  "kernelspec": {
   "display_name": "Python 3",
   "language": "python",
   "name": "python3"
  },
  "language_info": {
   "codemirror_mode": {
    "name": "ipython",
    "version": 3
   },
   "file_extension": ".py",
   "mimetype": "text/x-python",
   "name": "python",
   "nbconvert_exporter": "python",
   "pygments_lexer": "ipython3",
   "version": "3.11.6"
  }
 },
 "nbformat": 4,
 "nbformat_minor": 5
}
